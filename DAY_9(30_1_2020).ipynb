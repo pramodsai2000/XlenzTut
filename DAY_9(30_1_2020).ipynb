{
  "nbformat": 4,
  "nbformat_minor": 0,
  "metadata": {
    "colab": {
      "name": "DAY 9(30-1-2020).ipynb",
      "provenance": [],
      "authorship_tag": "ABX9TyMxrxO+B+IsNUbM0rw58dzG",
      "include_colab_link": true
    },
    "kernelspec": {
      "name": "python3",
      "display_name": "Python 3"
    }
  },
  "cells": [
    {
      "cell_type": "markdown",
      "metadata": {
        "id": "view-in-github",
        "colab_type": "text"
      },
      "source": [
        "<a href=\"https://colab.research.google.com/github/pramodsai2000/XlenzTut/blob/master/DAY_9(30_1_2020).ipynb\" target=\"_parent\"><img src=\"https://colab.research.google.com/assets/colab-badge.svg\" alt=\"Open In Colab\"/></a>"
      ]
    },
    {
      "cell_type": "code",
      "metadata": {
        "id": "gb4fmOmE_K22",
        "colab_type": "code",
        "colab": {}
      },
      "source": [
        ""
      ],
      "execution_count": 0,
      "outputs": []
    },
    {
      "cell_type": "markdown",
      "metadata": {
        "id": "uv8Px_MN_L9b",
        "colab_type": "text"
      },
      "source": [
        "*** ADDING LINKS TO MARKDOWN***\n",
        "\n",
        "[SITE](https://git-scm.com/book/en/v2/Customizing-Git-Git-Configuration)"
      ]
    },
    {
      "cell_type": "markdown",
      "metadata": {
        "id": "lNF4Os_hBs9E",
        "colab_type": "text"
      },
      "source": [
        "###INSERTING IMAGE\n",
        "![TEXT](http://jntuacea.ac.in/images/jntuaceatp.png)"
      ]
    },
    {
      "cell_type": "code",
      "metadata": {
        "id": "0bVYhwz0CXy_",
        "colab_type": "code",
        "colab": {
          "base_uri": "https://localhost:8080/",
          "height": 34
        },
        "outputId": "f2d57624-144b-422f-de21-7284f4456dc1"
      },
      "source": [
        "print(\"hello world\")\n"
      ],
      "execution_count": 2,
      "outputs": [
        {
          "output_type": "stream",
          "text": [
            "hello world\n"
          ],
          "name": "stdout"
        }
      ]
    },
    {
      "cell_type": "markdown",
      "metadata": {
        "id": "0bO177O-JKh9",
        "colab_type": "text"
      },
      "source": [
        "##ASSIGNMENT##\n"
      ]
    },
    {
      "cell_type": "code",
      "metadata": {
        "id": "fNPS02FJJTtW",
        "colab_type": "code",
        "colab": {
          "base_uri": "https://localhost:8080/",
          "height": 70
        },
        "outputId": "2ae81456-2c73-4ba0-b076-b8f156629419"
      },
      "source": [
        "n1=100 \n",
        "print(n1)\n",
        "a=b=c=10#multi variable assignment of same value\n",
        "print(a,b,c)\n",
        "a1,b1,c1=10,20,30# multiple variable of different values\n",
        "print(a1,b1,c1)"
      ],
      "execution_count": 5,
      "outputs": [
        {
          "output_type": "stream",
          "text": [
            "100\n",
            "10 10 10\n",
            "10 20 30\n"
          ],
          "name": "stdout"
        }
      ]
    },
    {
      "cell_type": "markdown",
      "metadata": {
        "id": "qyLoOn6hKcPX",
        "colab_type": "text"
      },
      "source": [
        "# DATA TYPES AND CONVERSIONS\n",
        "\n",
        "\n",
        "*   INT\n",
        "*   FLOAT\n",
        "*   STRING\n",
        "\n",
        "\n",
        "\n",
        "\n"
      ]
    },
    {
      "cell_type": "code",
      "metadata": {
        "id": "w9ArkkwYLGN_",
        "colab_type": "code",
        "colab": {
          "base_uri": "https://localhost:8080/",
          "height": 34
        },
        "outputId": "b6c7f2cd-b30c-493c-d2ad-113ce4215c3f"
      },
      "source": [
        "a=100\n",
        "s1=10.2\n",
        "s2=\"python\"\n",
        "print(type(a),type(s1),type(s2))"
      ],
      "execution_count": 6,
      "outputs": [
        {
          "output_type": "stream",
          "text": [
            "<class 'int'> <class 'float'> <class 'str'>\n"
          ],
          "name": "stdout"
        }
      ]
    },
    {
      "cell_type": "code",
      "metadata": {
        "id": "ECJbX63ELw-X",
        "colab_type": "code",
        "colab": {
          "base_uri": "https://localhost:8080/",
          "height": 34
        },
        "outputId": "8432a067-addf-4943-bad2-e5f057fb83dc"
      },
      "source": [
        "i=10.2\n",
        "s1=int(i)\n",
        "print(s1)"
      ],
      "execution_count": 10,
      "outputs": [
        {
          "output_type": "stream",
          "text": [
            "10\n"
          ],
          "name": "stdout"
        }
      ]
    },
    {
      "cell_type": "code",
      "metadata": {
        "id": "jl8z11HyMzfk",
        "colab_type": "code",
        "colab": {
          "base_uri": "https://localhost:8080/",
          "height": 34
        },
        "outputId": "5847ad0d-1e70-464a-a419-e168dcffd9f4"
      },
      "source": [
        "#length\n",
        "a=123456\n",
        "print(len(str(a)))"
      ],
      "execution_count": 18,
      "outputs": [
        {
          "output_type": "stream",
          "text": [
            "6\n"
          ],
          "name": "stdout"
        }
      ]
    },
    {
      "cell_type": "markdown",
      "metadata": {
        "id": "Lwwdhmj9NdTf",
        "colab_type": "text"
      },
      "source": [
        "#READING INPUT FROM USER USING --INPUT FUNCTION\n"
      ]
    },
    {
      "cell_type": "code",
      "metadata": {
        "id": "xDmqaxFYNjmo",
        "colab_type": "code",
        "colab": {
          "base_uri": "https://localhost:8080/",
          "height": 52
        },
        "outputId": "bb44286f-45f6-432b-bc17-f5bf2694d221"
      },
      "source": [
        "a=input(\"enter ur age\")\n",
        "print(type(a))"
      ],
      "execution_count": 20,
      "outputs": [
        {
          "output_type": "stream",
          "text": [
            "enter ur age12\n",
            "<class 'str'>\n"
          ],
          "name": "stdout"
        }
      ]
    },
    {
      "cell_type": "code",
      "metadata": {
        "id": "QyXa6acGOtQC",
        "colab_type": "code",
        "colab": {
          "base_uri": "https://localhost:8080/",
          "height": 70
        },
        "outputId": "789f3154-e6c6-4a88-e2cf-06968f156a65"
      },
      "source": [
        "b=int(input(\"enter name\"))\n",
        "print(type(b))\n",
        "print(b)"
      ],
      "execution_count": 22,
      "outputs": [
        {
          "output_type": "stream",
          "text": [
            "enter name20\n",
            "<class 'int'>\n",
            "20\n"
          ],
          "name": "stdout"
        }
      ]
    },
    {
      "cell_type": "markdown",
      "metadata": {
        "id": "EXeHBHmIPGnh",
        "colab_type": "text"
      },
      "source": [
        "#OPERATORS\n",
        "OPERATER is a symbol used to perform a specific kind of operation\n",
        " "
      ]
    },
    {
      "cell_type": "markdown",
      "metadata": {
        "id": "x7o4px-kPZui",
        "colab_type": "text"
      },
      "source": [
        "***ARTHEMATIC OPEATORS***\n"
      ]
    },
    {
      "cell_type": "markdown",
      "metadata": {
        "id": "eB1Sh-KlPn1q",
        "colab_type": "text"
      },
      "source": [
        "- +\n",
        "- -\n",
        "- *\n",
        "- %\n",
        "- /\n",
        "-//"
      ]
    },
    {
      "cell_type": "code",
      "metadata": {
        "id": "wDRT8Id4QISb",
        "colab_type": "code",
        "colab": {
          "base_uri": "https://localhost:8080/",
          "height": 123
        },
        "outputId": "38bbeb7c-6ecd-4b7b-bf38-2c09544016d8"
      },
      "source": [
        "a=123//10# // operater is floor of a/10 \n",
        "b=1234\n",
        "print(b+10)\n",
        "print(b-100)\n",
        "print(b*10)\n",
        "print(b%10)\n",
        "print(b/10)\n",
        "print(b//10)"
      ],
      "execution_count": 28,
      "outputs": [
        {
          "output_type": "stream",
          "text": [
            "1244\n",
            "1134\n",
            "12340\n",
            "4\n",
            "123.4\n",
            "123\n"
          ],
          "name": "stdout"
        }
      ]
    },
    {
      "cell_type": "markdown",
      "metadata": {
        "id": "T1jj8WRmR82K",
        "colab_type": "text"
      },
      "source": [
        "# RELATIONAL OPERATERS\n",
        "- =\n",
        "- ==\n",
        "- !=\n",
        "- <\n",
        "- *>*\n",
        "- <=\n",
        "- *>*=\n"
      ]
    },
    {
      "cell_type": "code",
      "metadata": {
        "id": "I7VDn6FaSb2L",
        "colab_type": "code",
        "colab": {
          "base_uri": "https://localhost:8080/",
          "height": 34
        },
        "outputId": "333eb725-83c5-432c-bc8e-0f234a2de751"
      },
      "source": [
        "x=10\n",
        "a1=x>15\n",
        "print(a1)"
      ],
      "execution_count": 29,
      "outputs": [
        {
          "output_type": "stream",
          "text": [
            "False\n"
          ],
          "name": "stdout"
        }
      ]
    },
    {
      "cell_type": "markdown",
      "metadata": {
        "id": "71NPECiHS655",
        "colab_type": "text"
      },
      "source": [
        "#LOGICAL OPERATORS\n",
        "- AND\n",
        "- OR\n",
        "- NOT\n",
        "\n"
      ]
    },
    {
      "cell_type": "code",
      "metadata": {
        "id": "030SpmvgTLhz",
        "colab_type": "code",
        "colab": {
          "base_uri": "https://localhost:8080/",
          "height": 52
        },
        "outputId": "6e5630f1-9f41-4378-9639-702b0a18ff5f"
      },
      "source": [
        "i=100\n",
        "a1=int((i>15)and (i<800))\n",
        "a2=not((i>15)and (i>800))\n",
        "print(a1,a2)\n",
        "b=1\n",
        "print(bool(b))"
      ],
      "execution_count": 35,
      "outputs": [
        {
          "output_type": "stream",
          "text": [
            "1 True\n",
            "True\n"
          ],
          "name": "stdout"
        }
      ]
    },
    {
      "cell_type": "markdown",
      "metadata": {
        "id": "JPHtXE0ZUljY",
        "colab_type": "text"
      },
      "source": [
        "#CONTROL FLOW STATEMENTS\n",
        "- conditional statements\n",
        "- looping statements\n"
      ]
    },
    {
      "cell_type": "code",
      "metadata": {
        "id": "lkLFGFATUyPA",
        "colab_type": "code",
        "colab": {}
      },
      "source": [
        ""
      ],
      "execution_count": 0,
      "outputs": []
    },
    {
      "cell_type": "markdown",
      "metadata": {
        "id": "X1ZI11-AU_4v",
        "colab_type": "text"
      },
      "source": [
        "# IF-ELSE STATEMENTS\n",
        "## syntax:\n",
        "# if BOOLEAN EWXPRESSION\n",
        "# statements\n",
        "# else\n",
        "# statements\n"
      ]
    },
    {
      "cell_type": "code",
      "metadata": {
        "id": "iBNjTiGUVWbS",
        "colab_type": "code",
        "colab": {
          "base_uri": "https://localhost:8080/",
          "height": 34
        },
        "outputId": "150e197d-bf56-4c14-cf76-c04a5408c23d"
      },
      "source": [
        "# to check given no is even or odd\n",
        "a =4\n",
        "if a%2==0:\n",
        "  print(a,\"is an even number\")\n",
        "else:\n",
        "  print(a,\"is an od  number\")"
      ],
      "execution_count": 41,
      "outputs": [
        {
          "output_type": "stream",
          "text": [
            "4 is an even number\n"
          ],
          "name": "stdout"
        }
      ]
    },
    {
      "cell_type": "code",
      "metadata": {
        "id": "fgwz5r16W1V0",
        "colab_type": "code",
        "colab": {
          "base_uri": "https://localhost:8080/",
          "height": 52
        },
        "outputId": "470ef0f8-68b8-41c6-ac72-e978647393d7"
      },
      "source": [
        "# to check given no is perfect multiples of 3 and 5\n",
        "a=int(input(\"enter the number\"))\n",
        "if a%3==0 and a%5==0:\n",
        "  print(a,\"is an multiple of 3 and 5\")\n",
        "else :\n",
        "  print(a,\"is not a miultiple of 3 and 5\")"
      ],
      "execution_count": 42,
      "outputs": [
        {
          "output_type": "stream",
          "text": [
            "enter the number15\n",
            "15 is an multiple of 3 and 5\n"
          ],
          "name": "stdout"
        }
      ]
    },
    {
      "cell_type": "code",
      "metadata": {
        "id": "e3HNDNm_YeWF",
        "colab_type": "code",
        "colab": {
          "base_uri": "https://localhost:8080/",
          "height": 52
        },
        "outputId": "80ddbe02-22d0-4321-ca5a-b776e0658ab5"
      },
      "source": [
        "# check given no is positive ,negative or zero\n",
        "a=int(input(\"enter the number\"))\n",
        "if a>0:\n",
        "  print(a,\"is an positive number\")\n",
        "elif a<0:\n",
        "  print(a,\"is an negitive number\")\n",
        "else:\n",
        "  print(a,\"is an zero\")\n"
      ],
      "execution_count": 47,
      "outputs": [
        {
          "output_type": "stream",
          "text": [
            "enter the number0\n",
            "0 is an zero\n"
          ],
          "name": "stdout"
        }
      ]
    },
    {
      "cell_type": "code",
      "metadata": {
        "id": "X7TVx0zQaBs5",
        "colab_type": "code",
        "colab": {
          "base_uri": "https://localhost:8080/",
          "height": 87
        },
        "outputId": "93b81caa-7f1f-4a8f-bd21-c02445b80825"
      },
      "source": [
        "#check the largest of given three numbers\n",
        "a=int(input(\"enter the a value\"))\n",
        "b=int(input(\"enter the b value\"))\n",
        "c=int(input(\"enter the c value\"))\n",
        "if a==b==c:\n",
        "  print(\"given three numbers are equal\")\n",
        "elif a>b and a>c:\n",
        "  print(a,\"is largest among three numbers\")\n",
        "elif b>c:\n",
        "  print(b,\"is largets among three\")\n",
        "else:\n",
        "  print(c,\"is largest among three\")"
      ],
      "execution_count": 54,
      "outputs": [
        {
          "output_type": "stream",
          "text": [
            "enter the a value12\n",
            "enter the b value12\n",
            "enter the c value12\n",
            "given three numbers are equal\n"
          ],
          "name": "stdout"
        }
      ]
    },
    {
      "cell_type": "code",
      "metadata": {
        "id": "AI0O9uOYdR4o",
        "colab_type": "code",
        "colab": {}
      },
      "source": [
        "# find the given no is leap year or not\n",
        "a=int(input(\"entre the year\"))\n",
        "if a%400==0:\n",
        "  print(a,\" is a leap year\")\n",
        "elif a%4==0 and a%100!=0:\n",
        "  print(a,\"is a leap year\")\n",
        "else:\n",
        "  print(a,\"it is nor=t a leap year\")"
      ],
      "execution_count": 0,
      "outputs": []
    }
  ]
}